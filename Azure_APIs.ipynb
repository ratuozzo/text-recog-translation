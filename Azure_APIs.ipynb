{
 "cells": [
  {
   "attachments": {},
   "cell_type": "markdown",
   "metadata": {
    "deletable": false,
    "editable": false
   },
   "source": [
    "<img src=\"images\\logo_datai.png\" width=\"400\" img style=\"float: right;\"> \n",
    "\n",
    "https://www.unav.edu/web/instituto-de-ciencia-de-los-datos-e-inteligencia-artificial<br>\n",
    "Author: Pablo Urruchi Mohino"
   ]
  },
  {
   "attachments": {},
   "cell_type": "markdown",
   "metadata": {},
   "source": [
    "### Cognitive services\n",
    "\n",
    "In this notebook you will learn how to create an Azure Speech to Text API. This is a \"pay as you go\" service which could be useful in a NLP project.\n",
    "\n",
    "https://docs.microsoft.com/en-gb/azure/cognitive-services/ <br>\n",
    "\n",
    "<img src=\"images\\logo.jpg\" width=\"300\" img style=\"float: left;\">"
   ]
  },
  {
   "attachments": {},
   "cell_type": "markdown",
   "metadata": {},
   "source": [
    "### speech to text\n",
    "\n",
    "Official loinks to set up: <br>\n",
    "https://docs.microsoft.com/en-gb/azure/cognitive-services/speech-service/quickstarts/speech-to-text-from-microphone?tabs=dotnet%2Cx-android%2Clinux%2Cjava-runtime%2Cwindowsinstall&pivots=programming-language-python <br>\n",
    "\n",
    "https://docs.microsoft.com/en-gb/azure/cognitive-services/speech-service/quickstarts/setup-platform?pivots=programming-language-python&tabs=dotnet%2Cwindows%2Cjre%2Cbrowser<br>\n",
    "\n",
    "https://azure.microsoft.com/en-gb/try/cognitive-services/my-apis/ <br>\n",
    "\n",
    "Quickstart:"
   ]
  },
  {
   "attachments": {},
   "cell_type": "markdown",
   "metadata": {},
   "source": [
    "<img src=\"images\\create_1.jpg\" width=\"220\" img style=\"float: left;\">\n",
    "<img src=\"images\\create_2.jpg\" width=\"280\" img style=\"float: left;\">\n",
    "<img src=\"images\\create_3.jpg\" width=\"470\" img style=\"float: left;\">"
   ]
  },
  {
   "attachments": {},
   "cell_type": "markdown",
   "metadata": {},
   "source": [
    "##### You will find your keys here\n",
    "<img src=\"images\\create_4.jpg\" width=\"300\" img style=\"float: left;\">"
   ]
  },
  {
   "cell_type": "raw",
   "metadata": {},
   "source": [
    "Endpoint: https://westus.api.cognitive.microsoft.com/sts/v1.0\n",
    "Key 1: YOUR KEY_1\n",
    "Key 2: YOUR KEY_2"
   ]
  },
  {
   "attachments": {},
   "cell_type": "markdown",
   "metadata": {},
   "source": [
    "### Requirements"
   ]
  },
  {
   "cell_type": "raw",
   "metadata": {},
   "source": [
    "#to be run in cmd\n",
    "pip install azure-cognitiveservices-speech"
   ]
  },
  {
   "cell_type": "raw",
   "metadata": {},
   "source": [
    "!pip install azure-cognitiveservices-speech"
   ]
  },
  {
   "attachments": {},
   "cell_type": "markdown",
   "metadata": {},
   "source": [
    "### quickstart.py"
   ]
  },
  {
   "cell_type": "code",
   "execution_count": 1,
   "metadata": {},
   "outputs": [
    {
     "name": "stdout",
     "output_type": "stream",
     "text": [
      "Say something...\n",
      "Recognized: Hello. Hello. Hello.\n"
     ]
    }
   ],
   "source": [
    "import azure.cognitiveservices.speech as speechsdk\n",
    "\n",
    "# Creates an instance of a speech config with specified subscription key and service region.\n",
    "# Replace with your own subscription key and service region (e.g., \"westus\").\n",
    "speech_key, service_region = \"a0bf3691bf2f45ff9047908e0df5cc5f\", \"westeurope\"\n",
    "speech_config = speechsdk.SpeechConfig(subscription=speech_key, region=service_region)\n",
    "\n",
    "# Creates a recognizer with the given settings\n",
    "speech_recognizer = speechsdk.SpeechRecognizer(speech_config=speech_config)\n",
    "\n",
    "print(\"Say something...\")\n",
    "\n",
    "\n",
    "# Starts speech recognition, and returns after a single utterance is recognized. The end of a\n",
    "# single utterance is determined by listening for silence at the end or until a maximum of 15\n",
    "# seconds of audio is processed.  The task returns the recognition text as result. \n",
    "# Note: Since recognize_once() returns only a single utterance, it is suitable only for single\n",
    "# shot recognition like command or query. \n",
    "# For long-running multi-utterance recognition, use start_continuous_recognition() instead.\n",
    "result = speech_recognizer.recognize_once()\n",
    "\n",
    "# Checks result.\n",
    "if result.reason == speechsdk.ResultReason.RecognizedSpeech:\n",
    "    print(\"Recognized: {}\".format(result.text))\n",
    "elif result.reason == speechsdk.ResultReason.NoMatch:\n",
    "    print(\"No speech could be recognized: {}\".format(result.no_match_details))\n",
    "elif result.reason == speechsdk.ResultReason.Canceled:\n",
    "    cancellation_details = result.cancellation_details\n",
    "    print(\"Speech Recognition canceled: {}\".format(cancellation_details.reason))\n",
    "    if cancellation_details.reason == speechsdk.CancellationReason.Error:\n",
    "        print(\"Error details: {}\".format(cancellation_details.error_details))"
   ]
  },
  {
   "cell_type": "code",
   "execution_count": 2,
   "metadata": {},
   "outputs": [
    {
     "data": {
      "text/plain": [
       "'Hello. Hello. Hello.'"
      ]
     },
     "execution_count": 2,
     "metadata": {},
     "output_type": "execute_result"
    }
   ],
   "source": [
    "result.text"
   ]
  },
  {
   "cell_type": "code",
   "execution_count": 3,
   "metadata": {},
   "outputs": [],
   "source": [
    "import azure.cognitiveservices.speech as speechsdk\n",
    "# Set up the speech configuration\n",
    "speech_key = 'a0bf3691bf2f45ff9047908e0df5cc5f'\n",
    "service_region = 'westeurope'\n",
    "\n",
    "speech_config = speechsdk.SpeechConfig(subscription=speech_key, region=service_region)\n",
    "# Set up the audio configuration\n",
    "audio_config = speechsdk.audio.AudioConfig(use_default_microphone=True)\n",
    "# Set up the speech recognizer\n",
    "speech_recognizer = speechsdk.SpeechRecognizer(speech_config=speech_config, audio_config=audio_config)\n",
    "# Create a file to store the output\n",
    "output_file = open('output.txt', 'w')\n",
    "# Define a callback function to handle speech recognition events\n",
    "def handle_result(evt):\n",
    "    if evt.result.reason == speechsdk.ResultReason.RecognizedSpeech:\n",
    "        # Write the recognized text to the output file\n",
    "        output_file.write(evt.result.text + '\\n')\n",
    "    elif evt.result.reason == speechsdk.ResultReason.NoMatch:\n",
    "        print('No speech could be recognized')\n",
    "# Connect the recognized event to the callback function\n",
    "speech_recognizer.recognized.connect(handle_result)\n",
    "# Start continuous recognition\n",
    "speech_recognizer.start_continuous_recognition()\n",
    "# Wait for speech input\n",
    "input('Speak now, then press Enter to stop...')\n",
    "# Stop continuous recognition\n",
    "speech_recognizer.stop_continuous_recognition()\n",
    "# Close the output file\n",
    "output_file.close()"
   ]
  }
 ],
 "metadata": {
  "kernelspec": {
   "display_name": "Python 3",
   "language": "python",
   "name": "python3"
  },
  "language_info": {
   "codemirror_mode": {
    "name": "ipython",
    "version": 3
   },
   "file_extension": ".py",
   "mimetype": "text/x-python",
   "name": "python",
   "nbconvert_exporter": "python",
   "pygments_lexer": "ipython3",
   "version": "3.10.4"
  }
 },
 "nbformat": 4,
 "nbformat_minor": 4
}
